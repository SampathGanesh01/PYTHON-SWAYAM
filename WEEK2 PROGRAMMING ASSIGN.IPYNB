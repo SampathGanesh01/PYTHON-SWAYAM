{
 "cells": [
  {
   "cell_type": "code",
   "execution_count": 8,
   "metadata": {},
   "outputs": [
    {
     "name": "stdout",
     "output_type": "stream",
     "text": [
      "6\n",
      "6\n",
      "True\n"
     ]
    }
   ],
   "source": [
    "sam = input('Entr the string')\n",
    "right=sam.count(')')\n",
    "left=sam.count('(')\n",
    "print(right)\n",
    "print(left)\n",
    "if right==left:\n",
    "    print('True')\n",
    "else:\n",
    "    print('False')"
   ]
  },
  {
   "cell_type": "code",
   "execution_count": 108,
   "metadata": {},
   "outputs": [],
   "source": [
    "from tkinter import N\n",
    "\n",
    "\n",
    "def matched(sam):\n",
    "    right=sam.count(')')\n",
    "    left=sam.count('(')\n",
    "    if right==left:\n",
    "        print('True')\n",
    "    else:\n",
    "        print('False')\n",
    "    l = len(sam)\n",
    "    m = []\n",
    "    n = []\n",
    "    for i in range(0,l+1):\n",
    "        if sam[i] == '(':\n",
    "            m = m + [i]\n",
    "            print(i)\n",
    "        if sam[j] == ')':\n",
    "            j = j +[i]\n",
    "            print(j)\n",
    "        if j<i:\n",
    "            return False\n"
   ]
  },
  {
   "cell_type": "code",
   "execution_count": 140,
   "metadata": {},
   "outputs": [],
   "source": [
    "def matched(sam):\n",
    "    right=sam.count(')')\n",
    "    left=sam.count('(')\n",
    "    m = []\n",
    "    n = []\n",
    "    for i in range(1, len(sam)):\n",
    "        if  sam[i] =='(':\n",
    "              m = m + [i]\n",
    "        if sam[i] == ')':\n",
    "            n = n +[i]\n",
    "    if right == left and len(m)==len(n) == 0:\n",
    "        return True\n",
    "    elif right==left and max(m)<max(n):\n",
    "        return True\n",
    "    else:\n",
    "        return False\n",
    "    "
   ]
  },
  {
   "cell_type": "code",
   "execution_count": 141,
   "metadata": {},
   "outputs": [
    {
     "data": {
      "text/plain": [
       "True"
      ]
     },
     "execution_count": 141,
     "metadata": {},
     "output_type": "execute_result"
    }
   ],
   "source": [
    "matched(\"((jkl)78(A)&l(8(dd(FJI:),):)?)\")"
   ]
  },
  {
   "cell_type": "code",
   "execution_count": 130,
   "metadata": {},
   "outputs": [
    {
     "data": {
      "text/plain": [
       "0"
      ]
     },
     "execution_count": 130,
     "metadata": {},
     "output_type": "execute_result"
    }
   ],
   "source": [
    "def factors(n):\n",
    "    FL = []\n",
    "    for i in the range (2,n+1):\n",
    "        if n%i == 0:\n",
    "            FL = FL +[i]\n",
    "            \n"
   ]
  },
  {
   "cell_type": "code",
   "execution_count": 142,
   "metadata": {},
   "outputs": [
    {
     "data": {
      "text/plain": [
       "3"
      ]
     },
     "execution_count": 142,
     "metadata": {},
     "output_type": "execute_result"
    }
   ],
   "source": [
    "sam = [1,2]\n",
    "sum(sam)    "
   ]
  }
 ],
 "metadata": {
  "kernelspec": {
   "display_name": "Python 3.10.2 64-bit",
   "language": "python",
   "name": "python3"
  },
  "language_info": {
   "codemirror_mode": {
    "name": "ipython",
    "version": 3
   },
   "file_extension": ".py",
   "mimetype": "text/x-python",
   "name": "python",
   "nbconvert_exporter": "python",
   "pygments_lexer": "ipython3",
   "version": "3.10.2"
  },
  "orig_nbformat": 4,
  "vscode": {
   "interpreter": {
    "hash": "06628342b7b0e4601b980aa6bdf58599d98d181e02185dcac5676d3d9460a68d"
   }
  }
 },
 "nbformat": 4,
 "nbformat_minor": 2
}

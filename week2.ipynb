{
 "cells": [
  {
   "cell_type": "code",
   "execution_count": 1,
   "metadata": {},
   "outputs": [
    {
     "ename": "TypeError",
     "evalue": "'str' object does not support item assignment",
     "output_type": "error",
     "traceback": [
      "\u001b[1;31m---------------------------------------------------------------------------\u001b[0m",
      "\u001b[1;31mTypeError\u001b[0m                                 Traceback (most recent call last)",
      "\u001b[1;32mc:\\Users\\sampa\\Desktop\\SWAYAM NPTEL\\PYTHON-SWAYAM\\week2.ipynb Cell 1\u001b[0m in \u001b[0;36m<cell line: 7>\u001b[1;34m()\u001b[0m\n\u001b[0;32m      <a href='vscode-notebook-cell:/c%3A/Users/sampa/Desktop/SWAYAM%20NPTEL/PYTHON-SWAYAM/week2.ipynb#ch0000000?line=4'>5</a>\u001b[0m x[\u001b[39m1\u001b[39m] \u001b[39m=\u001b[39m x[\u001b[39m1\u001b[39m][:\u001b[39m5\u001b[39m] \u001b[39m+\u001b[39m \u001b[39m'\u001b[39m\u001b[39mery\u001b[39m\u001b[39m'\u001b[39m              \u001b[39m# Statement 5\u001b[39;00m\n\u001b[0;32m      <a href='vscode-notebook-cell:/c%3A/Users/sampa/Desktop/SWAYAM%20NPTEL/PYTHON-SWAYAM/week2.ipynb#ch0000000?line=5'>6</a>\u001b[0m y[\u001b[39m1\u001b[39m] \u001b[39m=\u001b[39m \u001b[39m4\u001b[39m                             \u001b[39m# Statement 6\u001b[39;00m\n\u001b[1;32m----> <a href='vscode-notebook-cell:/c%3A/Users/sampa/Desktop/SWAYAM%20NPTEL/PYTHON-SWAYAM/week2.ipynb#ch0000000?line=6'>7</a>\u001b[0m w[\u001b[39m1\u001b[39m][:\u001b[39m3\u001b[39m] \u001b[39m=\u001b[39m \u001b[39m'\u001b[39m\u001b[39mfea\u001b[39m\u001b[39m'\u001b[39m                     \u001b[39m# Statement 7\u001b[39;00m\n\u001b[0;32m      <a href='vscode-notebook-cell:/c%3A/Users/sampa/Desktop/SWAYAM%20NPTEL/PYTHON-SWAYAM/week2.ipynb#ch0000000?line=7'>8</a>\u001b[0m z[\u001b[39m4\u001b[39m] \u001b[39m=\u001b[39m \u001b[39m42\u001b[39m                            \u001b[39m# Statement 8\u001b[39;00m\n\u001b[0;32m      <a href='vscode-notebook-cell:/c%3A/Users/sampa/Desktop/SWAYAM%20NPTEL/PYTHON-SWAYAM/week2.ipynb#ch0000000?line=8'>9</a>\u001b[0m x[\u001b[39m0\u001b[39m][\u001b[39m0\u001b[39m] \u001b[39m=\u001b[39m \u001b[39m5555\u001b[39m                       \u001b[39m# Statement 9\u001b[39;00m\n",
      "\u001b[1;31mTypeError\u001b[0m: 'str' object does not support item assignment"
     ]
    }
   ],
   "source": [
    "x = [[3,5],\"mimsy\",2,\"borogove\",1]  # Statement 1\n",
    "y = x[0:50]                          # Statement 2\n",
    "z = y                                # Statement 3\n",
    "w = x                                # Statement 4\n",
    "x[1] = x[1][:5] + 'ery'              # Statement 5\n",
    "y[1] = 4                             # Statement 6\n",
    "w[1][:3] = 'fea'                     # Statement 7\n",
    "z[4] = 42                            # Statement 8\n",
    "x[0][0] = 5555                       # Statement 9\n",
    "a = (x[3][1] == 1)                   # Statement 10"
   ]
  },
  {
   "cell_type": "code",
   "execution_count": 5,
   "metadata": {},
   "outputs": [
    {
     "name": "stdout",
     "output_type": "stream",
     "text": [
      "65 47 47 95 47\n"
     ]
    }
   ],
   "source": [
    "b = [43,99,65,105,4]\n",
    "a = b[2:]\n",
    "d = b[1:]\n",
    "c = b\n",
    "d[1] = 95\n",
    "b[2] = 47\n",
    "c[3] = 73\n",
    "print(a[0], b[2], c[2], d[1],b[2])"
   ]
  },
  {
   "cell_type": "code",
   "execution_count": 6,
   "metadata": {},
   "outputs": [],
   "source": [
    "startmsg = \"anaconda\"\n",
    "endmsg = \"\"\n",
    "for i in range(1,1+len(startmsg)):\n",
    "  endmsg = endmsg + startmsg[-i]"
   ]
  },
  {
   "cell_type": "code",
   "execution_count": 7,
   "metadata": {},
   "outputs": [
    {
     "name": "stdout",
     "output_type": "stream",
     "text": [
      "adnocana\n"
     ]
    }
   ],
   "source": [
    "print(endmsg)"
   ]
  },
  {
   "cell_type": "code",
   "execution_count": 8,
   "metadata": {},
   "outputs": [
    {
     "data": {
      "text/plain": [
       "[13, 17, 19, 21]"
      ]
     },
     "execution_count": 8,
     "metadata": {},
     "output_type": "execute_result"
    }
   ],
   "source": [
    "def mystery(l):\n",
    "  l = l[2:]\n",
    "  return(l)\n",
    "\n",
    "mylist = [7,11,13,17,19,21]\n",
    "mystery(mylist)"
   ]
  }
 ],
 "metadata": {
  "kernelspec": {
   "display_name": "Python 3.10.2 64-bit",
   "language": "python",
   "name": "python3"
  },
  "language_info": {
   "codemirror_mode": {
    "name": "ipython",
    "version": 3
   },
   "file_extension": ".py",
   "mimetype": "text/x-python",
   "name": "python",
   "nbconvert_exporter": "python",
   "pygments_lexer": "ipython3",
   "version": "3.10.2"
  },
  "orig_nbformat": 4,
  "vscode": {
   "interpreter": {
    "hash": "06628342b7b0e4601b980aa6bdf58599d98d181e02185dcac5676d3d9460a68d"
   }
  }
 },
 "nbformat": 4,
 "nbformat_minor": 2
}
